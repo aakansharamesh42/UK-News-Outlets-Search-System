{
 "cells": [
  {
   "cell_type": "code",
   "execution_count": 469,
   "id": "89b6628e-3c05-4fd2-a5cc-c554908325ac",
   "metadata": {},
   "outputs": [],
   "source": [
    "### Google Secret Manager Client Instalation\n",
    "\n",
    "\n",
    "# !pip install google-cloud-secret-manager\n",
    "# Install gcloud: https://cloud.google.com/sdk/docs/install#windows\n",
    "# Setup the credential: gcloud auth application-default login"
   ]
  },
  {
   "cell_type": "code",
   "execution_count": 470,
   "id": "ae1d5e8b-af83-421e-94ed-b3b32e68fd8c",
   "metadata": {},
   "outputs": [],
   "source": [
    "# !pip install aioredis==1.3.1"
   ]
  },
  {
   "cell_type": "code",
   "execution_count": 506,
   "id": "dc86ad8e-45ed-4b66-aef1-54b846421f9a",
   "metadata": {},
   "outputs": [],
   "source": [
    "import json\n",
    "from google.cloud import secretmanager\n",
    "import redis\n",
    "import asyncio\n",
    "import aioredis\n",
    "\n",
    "import numpy as np\n",
    "import pandas as pd\n",
    "\n",
    "from tqdm.notebook import tqdm"
   ]
  },
  {
   "cell_type": "code",
   "execution_count": 507,
   "id": "465adc9f-631f-4b1c-8333-a110e38f56ec",
   "metadata": {},
   "outputs": [],
   "source": [
    "def get_secret_value(project_id = \"652914548272\", secret_id = \"redis\", key = \"redis-test\"):\n",
    "    from google.cloud import secretmanager\n",
    "\n",
    "    # Create the Secret Manager client.\n",
    "    client = secretmanager.SecretManagerServiceClient()\n",
    "    \n",
    "    name = f\"projects/{project_id}/secrets/{secret_id}/versions/latest\"\n",
    "\n",
    "    # Access the secret version.\n",
    "    response = client.access_secret_version(request={\"name\": name})\n",
    "\n",
    "    payload = response.payload.data.decode(\"UTF-8\")\n",
    "    configs = eval(payload)\n",
    "\n",
    "    config_key = configs[key]\n",
    "\n",
    "    return config_key\n"
   ]
  },
  {
   "cell_type": "code",
   "execution_count": 508,
   "id": "b183913e-648d-49f3-9eb9-d0ecd460cc8e",
   "metadata": {},
   "outputs": [],
   "source": [
    "# Redis on Redis Cloud (30mb)\n",
    "config_redis = get_secret_value(key = \"redis-test\")"
   ]
  },
  {
   "cell_type": "code",
   "execution_count": 510,
   "id": "4de6a42a-b630-4596-ba35-0014ee2a4ac3",
   "metadata": {},
   "outputs": [
    {
     "data": {
      "text/plain": [
       "{'host': 'redis-11664.c323.us-east-1-2.ec2.cloud.redislabs.com',\n",
       " 'port': 11664,\n",
       " 'password': 'fSnTmrFD7TRh5Wvr3hZluWsZyw4Fn13M'}"
      ]
     },
     "execution_count": 510,
     "metadata": {},
     "output_type": "execute_result"
    }
   ],
   "source": [
    "config_redis"
   ]
  },
  {
   "cell_type": "code",
   "execution_count": 511,
   "id": "e2f94e14-e0e0-4d5f-b32e-51ff35ef1a51",
   "metadata": {},
   "outputs": [],
   "source": [
    "r = redis.Redis(\n",
    "  host=config_redis[\"host\"],\n",
    "  port=config_redis[\"port\"],\n",
    "  password=config_redis[\"password\"]\n",
    ")\n"
   ]
  },
  {
   "cell_type": "code",
   "execution_count": 512,
   "id": "5aca2c29-0dd8-4548-8787-417f5db4c71f",
   "metadata": {},
   "outputs": [],
   "source": [
    "r.get('meta:document_size')"
   ]
  },
  {
   "cell_type": "code",
   "execution_count": 513,
   "id": "e7c9cdf7-daae-442b-bcf4-fc4f0fcf5806",
   "metadata": {},
   "outputs": [],
   "source": [
    "# r.flushdb()"
   ]
  },
  {
   "cell_type": "markdown",
   "id": "f1eaeac2-95a9-4fd4-978e-d2685f8d0561",
   "metadata": {},
   "source": [
    "# Load Index Json"
   ]
  },
  {
   "cell_type": "code",
   "execution_count": 325,
   "id": "986ec1fd-d107-4b44-87d7-279de03e2f48",
   "metadata": {},
   "outputs": [],
   "source": [
    "path_index = \"../../backend/utils/result/inverted_index.json\"\n",
    "with open(path_index, 'r+') as f:\n",
    "    data_json = json.load(f)"
   ]
  },
  {
   "cell_type": "code",
   "execution_count": 326,
   "id": "1d2adf40-a6f6-47aa-970e-570a6f484eb8",
   "metadata": {},
   "outputs": [
    {
     "data": {
      "text/plain": [
       "dict_keys(['meta', 'index'])"
      ]
     },
     "execution_count": 326,
     "metadata": {},
     "output_type": "execute_result"
    }
   ],
   "source": [
    "data_json.keys()"
   ]
  },
  {
   "cell_type": "code",
   "execution_count": 104,
   "id": "5b60f544-f3e9-47c9-828c-0cc0ece7821c",
   "metadata": {},
   "outputs": [
    {
     "data": {
      "text/plain": [
       "dict_keys(['document_size', 'doc_ids_list', 'source_doc_ids'])"
      ]
     },
     "execution_count": 104,
     "metadata": {},
     "output_type": "execute_result"
    }
   ],
   "source": [
    "data_json['meta'].keys()"
   ]
  },
  {
   "cell_type": "markdown",
   "id": "47b80b89-78c2-4cfa-bfd7-502fbebc1f0b",
   "metadata": {},
   "source": [
    "# Store the metadata of the document"
   ]
  },
  {
   "cell_type": "code",
   "execution_count": 464,
   "id": "307b6b8d-7716-4236-bdf4-74fe1e2f8a68",
   "metadata": {},
   "outputs": [],
   "source": [
    "path_index = \"../../backend/data/bbc/bbc_data_20240217_301.csv\"\n",
    "df = pd.read_csv(path_index)"
   ]
  },
  {
   "cell_type": "code",
   "execution_count": 466,
   "id": "3b626063-b160-4eea-b011-a662e7f54974",
   "metadata": {},
   "outputs": [],
   "source": [
    "# df"
   ]
  },
  {
   "cell_type": "markdown",
   "id": "2011c8a8-92a8-490e-ba6e-f963555c0b5b",
   "metadata": {},
   "source": [
    "# Function Redis"
   ]
  },
  {
   "cell_type": "code",
   "execution_count": 378,
   "id": "70fbc725-5467-4eca-bfcf-ebd30702f689",
   "metadata": {},
   "outputs": [],
   "source": [
    "def update_doc_size(r, new_size, colname='document_size'):\n",
    "    doc_size = r.get(colname)\n",
    "    \n",
    "    if not (doc_size):\n",
    "        doc_size = data_json['meta']['document_size']\n",
    "    else:\n",
    "        doc_size = int(doc_size)\n",
    "        doc_size += data_json['meta']['document_size']\n",
    "\n",
    "    r.set(colname, doc_size)\n",
    "    return True\n",
    "\n",
    "def get_doc_size(r, colname='document_size'):\n",
    "    doc_size = r.get(colname)\n",
    "    return int(doc_size)\n",
    "    "
   ]
  },
  {
   "cell_type": "markdown",
   "id": "1cc90d66-93bd-4fb6-84bf-414a27350c2d",
   "metadata": {},
   "source": [
    "## Store Word Index"
   ]
  },
  {
   "cell_type": "markdown",
   "id": "3a59f50a-970a-4fc6-ad9c-170917ffec25",
   "metadata": {},
   "source": [
    "### Approach 1, using partial hash"
   ]
  },
  {
   "cell_type": "code",
   "execution_count": 406,
   "id": "504a71d1-f207-4409-a35e-8126f4686efd",
   "metadata": {},
   "outputs": [],
   "source": [
    "v = data_json['index']['men']['2018']"
   ]
  },
  {
   "cell_type": "code",
   "execution_count": 413,
   "id": "bceae073-36fd-4139-9056-7eead90716f2",
   "metadata": {},
   "outputs": [
    {
     "data": {
      "text/plain": [
       "1"
      ]
     },
     "execution_count": 413,
     "metadata": {},
     "output_type": "execute_result"
    }
   ],
   "source": [
    "r.hset('w:men', '2011', str(v))"
   ]
  },
  {
   "cell_type": "code",
   "execution_count": 410,
   "id": "fc9edc11-0e27-4c9f-894f-8099f59133ca",
   "metadata": {},
   "outputs": [
    {
     "data": {
      "text/plain": [
       "{b'2018': b'[1, 6, 10]'}"
      ]
     },
     "execution_count": 410,
     "metadata": {},
     "output_type": "execute_result"
    }
   ],
   "source": [
    "r.hgetall('w:men')"
   ]
  },
  {
   "cell_type": "code",
   "execution_count": 411,
   "id": "d1b74331-e1b3-471f-853e-d873840e00bb",
   "metadata": {},
   "outputs": [
    {
     "data": {
      "text/plain": [
       "True"
      ]
     },
     "execution_count": 411,
     "metadata": {},
     "output_type": "execute_result"
    }
   ],
   "source": [
    "r.hexists('w:men', '2018')"
   ]
  },
  {
   "cell_type": "code",
   "execution_count": 414,
   "id": "302a26f4-b187-471e-9a64-9aa4ebb2412e",
   "metadata": {},
   "outputs": [
    {
     "data": {
      "text/plain": [
       "[b'2018', b'2011']"
      ]
     },
     "execution_count": 414,
     "metadata": {},
     "output_type": "execute_result"
    }
   ],
   "source": [
    "r.hkeys('w:men')"
   ]
  },
  {
   "cell_type": "markdown",
   "id": "a6f844ff-290c-4e41-9edb-1ce3c2d8e3fb",
   "metadata": {},
   "source": [
    "### Approach 2, using full hash"
   ]
  },
  {
   "cell_type": "code",
   "execution_count": 423,
   "id": "2fa8290d-2086-4992-9a35-2e0d234b13c1",
   "metadata": {},
   "outputs": [],
   "source": [
    "val = str(data_json['index']['men'])"
   ]
  },
  {
   "cell_type": "code",
   "execution_count": 426,
   "id": "f7cd157c-40cb-47da-8079-980bea42842c",
   "metadata": {},
   "outputs": [
    {
     "data": {
      "text/plain": [
       "True"
      ]
     },
     "execution_count": 426,
     "metadata": {},
     "output_type": "execute_result"
    }
   ],
   "source": [
    "r.set('w:men-2',val)"
   ]
  },
  {
   "cell_type": "code",
   "execution_count": 467,
   "id": "6ac03ed5-7ae4-41b2-bd26-c48162c1a041",
   "metadata": {},
   "outputs": [],
   "source": [
    "# r.get('w:men-2')"
   ]
  },
  {
   "cell_type": "markdown",
   "id": "62ad4a61-ccdb-4e05-960c-5ee684240bf5",
   "metadata": {
    "jp-MarkdownHeadingCollapsed": true
   },
   "source": [
    "# Push Index to Redis"
   ]
  },
  {
   "cell_type": "code",
   "execution_count": 70,
   "id": "8163fb16-66e6-4a46-8e9b-91ddbf458f5b",
   "metadata": {},
   "outputs": [],
   "source": [
    "# r.set(\"document_size\", str(data_json['document_size']))"
   ]
  },
  {
   "cell_type": "code",
   "execution_count": 71,
   "id": "a7985bfe-e59c-4468-800a-23852e0534fd",
   "metadata": {},
   "outputs": [
    {
     "data": {
      "text/plain": [
       "b\"{'0': 5000}\""
      ]
     },
     "execution_count": 71,
     "metadata": {},
     "output_type": "execute_result"
    }
   ],
   "source": [
    "r.get('document_size')"
   ]
  },
  {
   "cell_type": "code",
   "execution_count": 72,
   "id": "e74fb852-adfd-4a78-b978-68208912bdd9",
   "metadata": {},
   "outputs": [],
   "source": [
    "# r.set(\"doc_ids_list\", str(data_json['doc_ids_list']))"
   ]
  },
  {
   "cell_type": "code",
   "execution_count": 74,
   "id": "9dba965f-27f8-4cce-b735-a7845f819e31",
   "metadata": {},
   "outputs": [],
   "source": [
    "# r.get('doc_ids_list')"
   ]
  },
  {
   "cell_type": "code",
   "execution_count": 75,
   "id": "3203ba67-62ac-47f7-813b-dfd09ea4f129",
   "metadata": {},
   "outputs": [],
   "source": [
    "# # Store term positions in documents\n",
    "# for term in tqdm(data_json.keys()):\n",
    "#     if term not in ['document_size', 'doc_ids_list']:\n",
    "#         r.set(term, str(data_json['term'])) #38944/39310"
   ]
  },
  {
   "cell_type": "markdown",
   "id": "ee123002-0d54-4422-8c78-14a8fa85298d",
   "metadata": {},
   "source": [
    "# Push Index to Redis in batches"
   ]
  },
  {
   "cell_type": "code",
   "execution_count": 441,
   "id": "401921e3-2c6b-4cdb-8ec7-bb42bbce4331",
   "metadata": {},
   "outputs": [],
   "source": [
    "def process_dict_in_batches(input_dict, batch_size, prefix='w:'):\n",
    "    keys = list(input_dict.keys())\n",
    "    num_keys = len(keys)\n",
    "    batches = []\n",
    "    for i in range(0, num_keys, batch_size):\n",
    "        batch_keys = keys[i:i+batch_size]\n",
    "        batch = {prefix+key: str(input_dict[key]) for key in batch_keys}\n",
    "        batches.append(batch)\n",
    "    return batches"
   ]
  },
  {
   "cell_type": "code",
   "execution_count": 442,
   "id": "9629880e-4915-475a-8ec2-bf63609b52d7",
   "metadata": {},
   "outputs": [],
   "source": [
    "minibatch = 15\n",
    "batches = process_dict_in_batches(data_json['index'], minibatch)"
   ]
  },
  {
   "cell_type": "code",
   "execution_count": 444,
   "id": "2af148a5-9ee1-437d-9b2c-e59b640626e6",
   "metadata": {},
   "outputs": [],
   "source": [
    "# batches[3]"
   ]
  },
  {
   "cell_type": "code",
   "execution_count": 85,
   "id": "6fc043fe-3301-44bf-b5b5-af73df898e81",
   "metadata": {},
   "outputs": [],
   "source": [
    "async def set_data(redis, key, value):\n",
    "    await redis.set(key, value)\n",
    "\n",
    "async def batch_push():\n",
    "    # Define Redis server configuration\n",
    "    redis_config = {\n",
    "        'address': (config_redis[\"host\"], config_redis[\"port\"]),  # IP address and port\n",
    "        'password': config_redis[\"password\"]  # Redis password\n",
    "    }\n",
    "    \n",
    "    # Connect to Redis\n",
    "    redis = await aioredis.create_redis_pool(**redis_config)\n",
    "\n",
    "    # Define keys and values to set\n",
    "    for batch in tqdm(batches):\n",
    "        # Perform SET operations in parallel\n",
    "        tasks = [set_data(redis, key, value) for key, value in batch.items()]\n",
    "        await asyncio.gather(*tasks)\n",
    "\n",
    "    # Close Redis connection\n",
    "    redis.close()\n",
    "    await redis.wait_closed()\n",
    "\n",
    "# Run the asyncio event loop\n",
    "# asyncio.run(batch_push()) # use in a script\n",
    "\n",
    "# await batch_push() # use in a notebook"
   ]
  },
  {
   "cell_type": "markdown",
   "id": "fe1b4b0f-dea1-4e87-b237-6a54197e8788",
   "metadata": {},
   "source": [
    "# Retrieve value from Redis"
   ]
  },
  {
   "cell_type": "code",
   "execution_count": 445,
   "id": "ea1ff9c7-fb24-46dc-b5a8-5a4c2a767230",
   "metadata": {},
   "outputs": [],
   "source": [
    "def get_val(r, key):\n",
    "    value = r.get(key)\n",
    "    value = value.decode()\n",
    "    value = eval(value)\n",
    "    return value"
   ]
  },
  {
   "cell_type": "code",
   "execution_count": 447,
   "id": "f0920873-d147-43b1-a55e-3390d30035fb",
   "metadata": {},
   "outputs": [],
   "source": [
    "# get_val(r, 'w:men')"
   ]
  },
  {
   "cell_type": "code",
   "execution_count": 78,
   "id": "d823f7d6-356a-429c-a636-91fe00970c3b",
   "metadata": {},
   "outputs": [],
   "source": [
    "terms = list(data_json.keys())"
   ]
  },
  {
   "cell_type": "code",
   "execution_count": 81,
   "id": "e017e731-8152-40ff-b27b-f64d82c52a56",
   "metadata": {},
   "outputs": [],
   "source": [
    "term = terms[-21]\n",
    "val = get_val(r, term)"
   ]
  },
  {
   "cell_type": "code",
   "execution_count": 82,
   "id": "0b9c339b-101e-4d75-90e3-bab1a8415541",
   "metadata": {},
   "outputs": [
    {
     "data": {
      "text/plain": [
       "{'10037': [911, 912]}"
      ]
     },
     "execution_count": 82,
     "metadata": {},
     "output_type": "execute_result"
    }
   ],
   "source": [
    "val"
   ]
  },
  {
   "cell_type": "markdown",
   "id": "b41e0697-204d-4790-bf64-98643e914377",
   "metadata": {},
   "source": [
    "# Insert without overlapping"
   ]
  },
  {
   "cell_type": "code",
   "execution_count": 516,
   "id": "8763101e-28a8-40b1-9b27-950eb0bcf5ba",
   "metadata": {},
   "outputs": [
    {
     "name": "stdout",
     "output_type": "stream",
     "text": [
      "b'OK'\n"
     ]
    }
   ],
   "source": [
    "# Function to insert new data\n",
    "def insert_data(document_id, document_link):\n",
    "    # Lua script to check if document link exists in the Redis Set\n",
    "    lua_script = \"\"\"\n",
    "        if redis.call('sismember', KEYS[1], ARGV[1]) == 1 then\n",
    "            return 'EXIST'\n",
    "        else\n",
    "            redis.call('hset', KEYS[2], ARGV[2], ARGV[1])\n",
    "            redis.call('sadd', KEYS[1], ARGV[1])\n",
    "            return 'OK'\n",
    "        end\n",
    "    \"\"\"\n",
    "    # Run the Lua script\n",
    "    result = r.eval(lua_script, 2, 'document_links', 'documents', document_link, document_id)\n",
    "    return result\n",
    "\n",
    "# Function to insert new data\n",
    "def insert_data(document_id, document_link, title, summary):\n",
    "    # Lua script to check if document link exists in the Redis Set\n",
    "    lua_script = \"\"\"\n",
    "        if redis.call('sismember', KEYS[1], ARGV[1]) == 1 then\n",
    "            return 'EXIST'\n",
    "        else\n",
    "            redis.call('hset', KEYS[2], ARGV[2], ARGV[1])\n",
    "            redis.call('hset', KEYS[2], ARGV[3], ARGV[4])\n",
    "            redis.call('hset', KEYS[2], ARGV[5], ARGV[6])\n",
    "            redis.call('sadd', KEYS[1], ARGV[1])\n",
    "            return 'OK'\n",
    "        end\n",
    "    \"\"\"\n",
    "    # Run the Lua script\n",
    "    result = r.eval(lua_script, 2, 'document_links', 'documents', document_link, document_id, 'title', title, 'summary', summary)\n",
    "    return result\n",
    "\n",
    "\n",
    "def get_data(document_id):\n",
    "    return r.hget('documents', document_id)\n",
    "\n",
    "# Function to check if a document ID exists\n",
    "def document_id_exists(document_id):\n",
    "    return r.hexists('documents', document_id)\n",
    "\n",
    "# Function to get the maximum document ID\n",
    "def get_max_document_id():\n",
    "    document_ids = r.hkeys('documents')\n",
    "    if document_ids:\n",
    "        max_document_id = max(int(document_id) for document_id in document_ids)\n",
    "        return max_document_id\n",
    "    else:\n",
    "        return None\n",
    "\n",
    "\n",
    "\n",
    "# # Example usage\n",
    "# document_id = 124\n",
    "# document_link = 'https://google.com/document'\n",
    "# result = insert_data(document_id, document_link)\n",
    "# print(result)\n",
    "\n",
    "# Example usage\n",
    "document_id = '122'\n",
    "document_link = 'https://122.com/document'\n",
    "title = 'Sample Title22'\n",
    "summary = 'This is a sample summary.2'\n",
    "result = insert_data(document_id, document_link, title, summary)\n",
    "print(result)"
   ]
  },
  {
   "cell_type": "code",
   "execution_count": 191,
   "id": "44fe2e88-a49d-40bf-80da-5236b0c144c6",
   "metadata": {},
   "outputs": [
    {
     "name": "stdout",
     "output_type": "stream",
     "text": [
      "Document Link: b'https://2.com/document'\n"
     ]
    }
   ],
   "source": [
    "def get_document_link(document_id):\n",
    "    return r.hget('documents', document_id)\n",
    "\n",
    "document_id = '121'\n",
    "document_link = get_document_link(document_id)\n",
    "print(\"Document Link:\", document_link)\n"
   ]
  },
  {
   "cell_type": "code",
   "execution_count": 192,
   "id": "11efcf0e-f189-46bd-b076-f583b516798a",
   "metadata": {},
   "outputs": [
    {
     "name": "stdout",
     "output_type": "stream",
     "text": [
      "Title: b'Sample Title22'\n"
     ]
    }
   ],
   "source": [
    "def get_title(document_id):\n",
    "    return r.hmget('documents', document_id, 'title')[1]\n",
    "\n",
    "document_id = '122'\n",
    "title = get_title(document_id)\n",
    "print(\"Title:\", title)\n"
   ]
  },
  {
   "cell_type": "code",
   "execution_count": 194,
   "id": "03a43e86-c686-4423-965d-3cb2390ab123",
   "metadata": {},
   "outputs": [],
   "source": [
    "def get_all_info(document_id):\n",
    "    return r.hmget('documents', document_id, 'document_link', 'title', 'summary')\n",
    "\n",
    "# document_id = '121'\n",
    "# document_link, title, summary = get_all_info(document_id)\n",
    "# print(\"Document Link:\", document_link)\n",
    "\n",
    "# print(\"Title:\", title)\n",
    "# print(\"Summary:\", summary)\n"
   ]
  },
  {
   "cell_type": "code",
   "execution_count": 196,
   "id": "678012ce-6427-4d2f-bba6-13294f33c3bb",
   "metadata": {},
   "outputs": [],
   "source": [
    "# Example usage\n",
    "document_id = '211'\n",
    "document_link = 'https://211.com/document'\n",
    "title = 'Sample Title211'\n",
    "summary = 'This is a sample summary.211'"
   ]
  },
  {
   "cell_type": "code",
   "execution_count": 197,
   "id": "65efd47c-24ad-4ec8-9983-7b3da45e66f3",
   "metadata": {},
   "outputs": [],
   "source": [
    "lua_script = \"\"\"\n",
    "    if redis.call('sismember', KEYS[1], ARGV[1]) == 1 then\n",
    "        return 'EXIST'\n",
    "    else\n",
    "        redis.call('hset', KEYS[2], ARGV[2], ARGV[1])\n",
    "        redis.call('hset', KEYS[2], ARGV[3], ARGV[4])\n",
    "        redis.call('sadd', KEYS[1], ARGV[1])\n",
    "        return 'OK'\n",
    "    end\n",
    "\"\"\"\n",
    "# Run the Lua script\n",
    "result = r.eval(lua_script, 2, 'document_links', 'documents', document_link, document_id, title, summary)"
   ]
  },
  {
   "cell_type": "code",
   "execution_count": 515,
   "id": "ea4cdca1-bd68-4e82-8559-51fb7485e0cf",
   "metadata": {},
   "outputs": [
    {
     "data": {
      "text/plain": [
       "[None, None, None]"
      ]
     },
     "execution_count": 515,
     "metadata": {},
     "output_type": "execute_result"
    }
   ],
   "source": [
    "r.hmget('documents', document_id, 'title', 'summary')"
   ]
  },
  {
   "cell_type": "code",
   "execution_count": 217,
   "id": "91efdb92-f7ea-482b-a80b-623911aae8cb",
   "metadata": {},
   "outputs": [
    {
     "data": {
      "text/plain": [
       "0"
      ]
     },
     "execution_count": 217,
     "metadata": {},
     "output_type": "execute_result"
    }
   ],
   "source": [
    "r.hset(1, \"A\", \"D\")"
   ]
  },
  {
   "cell_type": "code",
   "execution_count": 219,
   "id": "054042a6-7de0-4908-ad86-c6fc76bfeeb3",
   "metadata": {},
   "outputs": [
    {
     "data": {
      "text/plain": [
       "{b'A': b'D'}"
      ]
     },
     "execution_count": 219,
     "metadata": {},
     "output_type": "execute_result"
    }
   ],
   "source": [
    "r.hgetall(1)"
   ]
  },
  {
   "cell_type": "code",
   "execution_count": 231,
   "id": "545078f5-d1e7-4ad1-8bf3-3abb37abf82c",
   "metadata": {},
   "outputs": [
    {
     "data": {
      "text/plain": [
       "0"
      ]
     },
     "execution_count": 231,
     "metadata": {},
     "output_type": "execute_result"
    }
   ],
   "source": [
    "r.sadd('names', 'jupyter')"
   ]
  },
  {
   "cell_type": "code",
   "execution_count": 232,
   "id": "3835ff8a-a0cc-4849-b341-f062cee1c5fe",
   "metadata": {},
   "outputs": [
    {
     "data": {
      "text/plain": [
       "1"
      ]
     },
     "execution_count": 232,
     "metadata": {},
     "output_type": "execute_result"
    }
   ],
   "source": [
    "r.sismember('names', 'jupyter')"
   ]
  },
  {
   "cell_type": "code",
   "execution_count": 233,
   "id": "a26623ae-6e0d-46c4-8e31-a8363fbc30fa",
   "metadata": {},
   "outputs": [],
   "source": [
    "# Save link using\n",
    "# r.sadd('names', 'jupyter')\n",
    "# r.sismember('names', 'jupyter')"
   ]
  },
  {
   "cell_type": "code",
   "execution_count": 260,
   "id": "685debba-4fa0-461a-b0dd-07cfbbfa3b55",
   "metadata": {},
   "outputs": [
    {
     "data": {
      "text/plain": [
       "0"
      ]
     },
     "execution_count": 260,
     "metadata": {},
     "output_type": "execute_result"
    }
   ],
   "source": [
    "r.hset('h_employee_profile:nicol', 'Q', '4')"
   ]
  },
  {
   "cell_type": "code",
   "execution_count": 264,
   "id": "d4580873-3858-4682-84f8-ae09e88791ca",
   "metadata": {},
   "outputs": [
    {
     "data": {
      "text/plain": [
       "{b'name': b'Nicol3', b'school': b'X', b'Q': b'4'}"
      ]
     },
     "execution_count": 264,
     "metadata": {},
     "output_type": "execute_result"
    }
   ],
   "source": [
    "r.hgetall(\"h_employee_profile:nicol\")"
   ]
  },
  {
   "cell_type": "code",
   "execution_count": 265,
   "id": "76f285bb-8bc5-4304-8698-bce591a14f53",
   "metadata": {},
   "outputs": [
    {
     "data": {
      "text/plain": [
       "b'4'"
      ]
     },
     "execution_count": 265,
     "metadata": {},
     "output_type": "execute_result"
    }
   ],
   "source": [
    "r.hget(\"h_employee_profile:nicol\", 'Q')"
   ]
  },
  {
   "cell_type": "code",
   "execution_count": null,
   "id": "fdae7817-f8cb-4b96-af4e-e0130665605b",
   "metadata": {},
   "outputs": [],
   "source": []
  },
  {
   "cell_type": "code",
   "execution_count": null,
   "id": "a778295b-c1e2-459d-a89f-742ccfbfd728",
   "metadata": {},
   "outputs": [],
   "source": []
  },
  {
   "cell_type": "code",
   "execution_count": 240,
   "id": "408b1a56-076e-4ff7-b1a3-59b89d1ab637",
   "metadata": {},
   "outputs": [
    {
     "data": {
      "text/plain": [
       "5"
      ]
     },
     "execution_count": 240,
     "metadata": {},
     "output_type": "execute_result"
    }
   ],
   "source": [
    "r.rpush('mylist', 'one', 'two', 'three', 'four', 'five')\n",
    "\n"
   ]
  },
  {
   "cell_type": "code",
   "execution_count": 248,
   "id": "7b51f385-c408-44fa-a3b1-43145ae8593a",
   "metadata": {},
   "outputs": [
    {
     "data": {
      "text/plain": [
       "[b'four']"
      ]
     },
     "execution_count": 248,
     "metadata": {},
     "output_type": "execute_result"
    }
   ],
   "source": [
    "r.lrange('mylist', 3, 3)\n"
   ]
  },
  {
   "cell_type": "code",
   "execution_count": 239,
   "id": "fc574616-e8f9-4bda-9f37-6c2d5121376f",
   "metadata": {},
   "outputs": [],
   "source": [
    "r.lpop('mylist', 3)"
   ]
  },
  {
   "cell_type": "code",
   "execution_count": null,
   "id": "a53ad543-f0ff-42ab-8afe-af47f005b9fa",
   "metadata": {},
   "outputs": [],
   "source": [
    "r.rpush('mylist', 'one', 'two', 'three', 'four', 'five')\n",
    "r.lpop('mylist')\n",
    "r.lpop('mylist', 2)\n"
   ]
  },
  {
   "cell_type": "code",
   "execution_count": 163,
   "id": "097e1ea1-b25c-4d8e-8ec3-d89e588e730a",
   "metadata": {},
   "outputs": [],
   "source": [
    "get_data('121')"
   ]
  },
  {
   "cell_type": "code",
   "execution_count": 514,
   "id": "00396d52-3f96-4388-bbc2-18cce35a75a9",
   "metadata": {},
   "outputs": [],
   "source": [
    "# r.hget('documents', '122')"
   ]
  },
  {
   "cell_type": "markdown",
   "id": "2da46a7d-6e1e-43fe-bb73-7a6bf220edef",
   "metadata": {},
   "source": [
    "# Create a new format index"
   ]
  },
  {
   "cell_type": "code",
   "execution_count": 68,
   "id": "38d22634-7a90-4e99-9772-51f2a6183c85",
   "metadata": {},
   "outputs": [],
   "source": [
    "# data = {\n",
    "#     \"document_size\": data_json['document_size'],\n",
    "#     \"doc_ids_list\": data_json['doc_ids_list']\n",
    "# }\n",
    "\n",
    "# data['terms'] = {}"
   ]
  },
  {
   "cell_type": "code",
   "execution_count": 69,
   "id": "1366c1d0-0fdf-400a-ace4-c83f81394b91",
   "metadata": {},
   "outputs": [],
   "source": [
    "# for keyword in data_json.keys():\n",
    "#     if keyword not in ['document_size', 'doc_ids_list']:\n",
    "#         data['terms'][keyword] = data_json[keyword]"
   ]
  }
 ],
 "metadata": {
  "kernelspec": {
   "display_name": "Python 3 (ipykernel)",
   "language": "python",
   "name": "python3"
  },
  "language_info": {
   "codemirror_mode": {
    "name": "ipython",
    "version": 3
   },
   "file_extension": ".py",
   "mimetype": "text/x-python",
   "name": "python",
   "nbconvert_exporter": "python",
   "pygments_lexer": "ipython3",
   "version": "3.11.5"
  }
 },
 "nbformat": 4,
 "nbformat_minor": 5
}
